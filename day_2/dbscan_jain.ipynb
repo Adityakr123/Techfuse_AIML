{
  "cells": [
    {
      "cell_type": "markdown",
      "metadata": {
        "id": "AIbJ3bhTkAxC"
      },
      "source": []
    },
    {
      "cell_type": "markdown",
      "metadata": {
        "id": "bT9hKchnkG-7"
      },
      "source": [
        "Importing the Libraries "
      ]
    },
    {
      "cell_type": "code",
      "execution_count": 1,
      "metadata": {
        "id": "exFFaXoikLyO"
      },
      "outputs": [],
      "source": [
        "import pandas as pd\n",
        "import numpy as np\n",
        "import matplotlib.pyplot as plt \n",
        "from sklearn.neighbors import NearestNeighbors\n",
        "from sklearn.cluster import DBSCAN\n",
        "from matplotlib import pyplot as plt\n",
        "from sklearn.datasets import load_iris\n",
        "import seaborn as sns\n",
        "from sklearn.preprocessing import StandardScaler"
      ]
    },
    {
      "cell_type": "markdown",
      "metadata": {
        "id": "V-wODM40kRDO"
      },
      "source": [
        "Importing the data"
      ]
    },
    {
      "cell_type": "code",
      "execution_count": 59,
      "metadata": {
        "colab": {
          "base_uri": "https://localhost:8080/"
        },
        "id": "MpePfbX1kWSp",
        "outputId": "c71e4a04-6e7c-4d86-8a51-175bfae2182b"
      },
      "outputs": [
        {
          "name": "stdout",
          "output_type": "stream",
          "text": [
            "372\n"
          ]
        }
      ],
      "source": [
        "iris = pd.read_excel(\"jain.xlsx\")\n",
        "x = iris.iloc[:, [0, 1]].values\n",
        "\n",
        "target = iris.iloc[:,2].values\n",
        "print(len(target))\n",
        "scaler = StandardScaler()\n",
        "scaled_df = scaler.fit_transform(x)\n"
      ]
    },
    {
      "cell_type": "markdown",
      "metadata": {
        "id": "N-evVF9_koAy"
      },
      "source": [
        "Viewing the Data"
      ]
    },
    {
      "cell_type": "code",
      "execution_count": 29,
      "metadata": {
        "colab": {
          "base_uri": "https://localhost:8080/"
        },
        "id": "pqltewaJkq8T",
        "outputId": "7ec4f5c3-d353-4ba7-f922-8f61d7d08b96"
      },
      "outputs": [
        {
          "data": {
            "text/plain": [
              "array([[ 0.75, 15.6 ],\n",
              "       [ 3.3 , 15.45],\n",
              "       [ 5.25, 14.2 ],\n",
              "       [ 4.9 , 15.65],\n",
              "       [ 5.35, 15.85],\n",
              "       [ 5.1 , 17.9 ],\n",
              "       [ 4.6 , 18.25],\n",
              "       [ 4.05, 18.75],\n",
              "       [ 3.4 , 19.7 ],\n",
              "       [ 2.9 , 21.15],\n",
              "       [ 3.1 , 21.85],\n",
              "       [ 3.9 , 21.85],\n",
              "       [ 4.4 , 20.05],\n",
              "       [ 7.2 , 14.5 ],\n",
              "       [ 7.65, 16.5 ],\n",
              "       [ 7.1 , 18.65],\n",
              "       [ 7.05, 19.9 ],\n",
              "       [ 5.85, 20.55],\n",
              "       [ 5.5 , 21.8 ],\n",
              "       [ 6.55, 21.8 ],\n",
              "       [ 6.05, 22.3 ],\n",
              "       [ 5.2 , 23.4 ],\n",
              "       [ 4.55, 23.9 ],\n",
              "       [ 5.1 , 24.4 ],\n",
              "       [ 8.1 , 26.35],\n",
              "       [10.15, 27.7 ],\n",
              "       [ 9.75, 25.5 ],\n",
              "       [ 9.2 , 21.1 ],\n",
              "       [11.2 , 22.8 ],\n",
              "       [12.6 , 23.1 ],\n",
              "       [13.25, 23.5 ],\n",
              "       [11.65, 26.85],\n",
              "       [12.45, 27.55],\n",
              "       [13.3 , 27.85],\n",
              "       [13.7 , 27.75],\n",
              "       [14.15, 26.9 ],\n",
              "       [14.05, 26.55],\n",
              "       [15.15, 24.2 ],\n",
              "       [15.2 , 24.75],\n",
              "       [12.2 , 20.9 ],\n",
              "       [12.15, 21.45],\n",
              "       [12.75, 22.05],\n",
              "       [13.15, 21.85],\n",
              "       [13.75, 22.  ],\n",
              "       [13.95, 22.7 ],\n",
              "       [14.4 , 22.65],\n",
              "       [14.2 , 22.15],\n",
              "       [14.1 , 21.75],\n",
              "       [14.05, 21.4 ],\n",
              "       [17.2 , 24.8 ],\n",
              "       [17.7 , 24.85],\n",
              "       [17.55, 25.2 ],\n",
              "       [17.  , 26.85],\n",
              "       [16.55, 27.1 ],\n",
              "       [19.15, 25.35],\n",
              "       [18.8 , 24.7 ],\n",
              "       [21.4 , 25.85],\n",
              "       [15.8 , 21.35],\n",
              "       [16.6 , 21.15],\n",
              "       [17.45, 20.75],\n",
              "       [18.  , 20.95],\n",
              "       [18.25, 20.2 ],\n",
              "       [18.  , 22.3 ],\n",
              "       [18.6 , 22.25],\n",
              "       [19.2 , 21.95],\n",
              "       [19.45, 22.1 ],\n",
              "       [20.1 , 21.6 ],\n",
              "       [20.1 , 20.9 ],\n",
              "       [19.9 , 20.35],\n",
              "       [19.45, 19.05],\n",
              "       [19.25, 18.7 ],\n",
              "       [21.3 , 22.3 ],\n",
              "       [22.9 , 23.65],\n",
              "       [23.15, 24.1 ],\n",
              "       [24.25, 22.85],\n",
              "       [22.05, 20.25],\n",
              "       [20.95, 18.25],\n",
              "       [21.65, 17.25],\n",
              "       [21.55, 16.7 ],\n",
              "       [21.6 , 16.3 ],\n",
              "       [21.5 , 15.5 ],\n",
              "       [22.4 , 16.5 ],\n",
              "       [22.25, 18.1 ],\n",
              "       [23.15, 19.05],\n",
              "       [23.5 , 19.8 ],\n",
              "       [23.75, 20.2 ],\n",
              "       [25.15, 19.8 ],\n",
              "       [25.5 , 19.45],\n",
              "       [23.  , 18.  ],\n",
              "       [23.95, 17.75],\n",
              "       [25.9 , 17.55],\n",
              "       [27.65, 15.65],\n",
              "       [23.1 , 14.6 ],\n",
              "       [23.5 , 15.2 ],\n",
              "       [24.05, 14.9 ],\n",
              "       [24.5 , 14.7 ],\n",
              "       [14.15, 17.35],\n",
              "       [14.3 , 16.8 ],\n",
              "       [14.3 , 15.75],\n",
              "       [14.75, 15.1 ],\n",
              "       [15.35, 15.5 ],\n",
              "       [15.95, 16.45],\n",
              "       [16.5 , 17.05],\n",
              "       [17.35, 17.05],\n",
              "       [17.15, 16.3 ],\n",
              "       [16.65, 16.1 ],\n",
              "       [16.5 , 15.15],\n",
              "       [16.25, 14.95],\n",
              "       [16.  , 14.25],\n",
              "       [15.9 , 13.2 ],\n",
              "       [15.15, 12.05],\n",
              "       [15.2 , 11.7 ],\n",
              "       [17.  , 15.65],\n",
              "       [16.9 , 15.35],\n",
              "       [17.35, 15.45],\n",
              "       [17.15, 15.1 ],\n",
              "       [17.3 , 14.9 ],\n",
              "       [17.7 , 15.  ],\n",
              "       [17.  , 14.6 ],\n",
              "       [16.85, 14.3 ],\n",
              "       [16.6 , 14.05],\n",
              "       [17.1 , 14.  ],\n",
              "       [17.45, 14.15],\n",
              "       [17.8 , 14.2 ],\n",
              "       [17.6 , 13.85],\n",
              "       [17.2 , 13.5 ],\n",
              "       [17.25, 13.15],\n",
              "       [17.1 , 12.75],\n",
              "       [16.95, 12.35],\n",
              "       [16.5 , 12.2 ],\n",
              "       [16.25, 12.5 ],\n",
              "       [16.05, 11.9 ],\n",
              "       [16.65, 10.9 ],\n",
              "       [16.7 , 11.4 ],\n",
              "       [16.95, 11.25],\n",
              "       [17.3 , 11.2 ],\n",
              "       [18.05, 11.9 ],\n",
              "       [18.6 , 12.5 ],\n",
              "       [18.9 , 12.05],\n",
              "       [18.7 , 11.25],\n",
              "       [17.95, 10.9 ],\n",
              "       [18.4 , 10.05],\n",
              "       [17.45, 10.4 ],\n",
              "       [17.6 , 10.15],\n",
              "       [17.7 ,  9.85],\n",
              "       [17.3 ,  9.7 ],\n",
              "       [16.95,  9.7 ],\n",
              "       [16.75,  9.65],\n",
              "       [19.8 ,  9.95],\n",
              "       [19.1 ,  9.55],\n",
              "       [17.5 ,  8.3 ],\n",
              "       [17.55,  8.1 ],\n",
              "       [17.85,  7.55],\n",
              "       [18.2 ,  8.35],\n",
              "       [19.3 ,  9.1 ],\n",
              "       [19.4 ,  8.85],\n",
              "       [19.05,  8.85],\n",
              "       [18.9 ,  8.5 ],\n",
              "       [18.6 ,  7.85],\n",
              "       [18.7 ,  7.65],\n",
              "       [19.35,  8.2 ],\n",
              "       [19.95,  8.3 ],\n",
              "       [20.  ,  8.9 ],\n",
              "       [20.3 ,  8.9 ],\n",
              "       [20.55,  8.8 ],\n",
              "       [18.35,  6.95],\n",
              "       [18.65,  6.9 ],\n",
              "       [19.3 ,  7.  ],\n",
              "       [19.1 ,  6.85],\n",
              "       [19.15,  6.65],\n",
              "       [21.2 ,  8.8 ],\n",
              "       [21.4 ,  8.8 ],\n",
              "       [21.1 ,  8.  ],\n",
              "       [20.4 ,  7.  ],\n",
              "       [20.5 ,  6.35],\n",
              "       [20.1 ,  6.05],\n",
              "       [20.45,  5.15],\n",
              "       [20.95,  5.55],\n",
              "       [20.95,  6.2 ],\n",
              "       [20.9 ,  6.6 ],\n",
              "       [21.05,  7.  ],\n",
              "       [21.85,  8.5 ],\n",
              "       [21.9 ,  8.2 ],\n",
              "       [22.3 ,  7.7 ],\n",
              "       [21.85,  6.65],\n",
              "       [21.3 ,  5.05],\n",
              "       [22.6 ,  6.7 ],\n",
              "       [22.5 ,  6.15],\n",
              "       [23.65,  7.2 ],\n",
              "       [24.1 ,  7.  ],\n",
              "       [21.95,  4.8 ],\n",
              "       [22.15,  5.05],\n",
              "       [22.45,  5.3 ],\n",
              "       [22.45,  4.9 ],\n",
              "       [22.7 ,  5.5 ],\n",
              "       [23.  ,  5.6 ],\n",
              "       [23.2 ,  5.3 ],\n",
              "       [23.45,  5.95],\n",
              "       [23.75,  5.95],\n",
              "       [24.45,  6.15],\n",
              "       [24.6 ,  6.45],\n",
              "       [25.2 ,  6.55],\n",
              "       [26.05,  6.4 ],\n",
              "       [25.3 ,  5.75],\n",
              "       [24.35,  5.35],\n",
              "       [23.3 ,  4.9 ],\n",
              "       [22.95,  4.75],\n",
              "       [22.4 ,  4.55],\n",
              "       [22.8 ,  4.1 ],\n",
              "       [22.9 ,  4.  ],\n",
              "       [23.25,  3.85],\n",
              "       [23.45,  3.6 ],\n",
              "       [23.55,  4.2 ],\n",
              "       [23.8 ,  3.65],\n",
              "       [23.8 ,  4.75],\n",
              "       [24.2 ,  4.  ],\n",
              "       [24.55,  4.  ],\n",
              "       [24.7 ,  3.85],\n",
              "       [24.7 ,  4.3 ],\n",
              "       [24.9 ,  4.75],\n",
              "       [26.4 ,  5.7 ],\n",
              "       [27.15,  5.95],\n",
              "       [27.3 ,  5.45],\n",
              "       [27.5 ,  5.45],\n",
              "       [27.55,  5.1 ],\n",
              "       [26.85,  4.95],\n",
              "       [26.6 ,  4.9 ],\n",
              "       [26.85,  4.4 ],\n",
              "       [26.2 ,  4.4 ],\n",
              "       [26.  ,  4.25],\n",
              "       [25.15,  4.1 ],\n",
              "       [25.6 ,  3.9 ],\n",
              "       [25.85,  3.6 ],\n",
              "       [24.95,  3.35],\n",
              "       [25.1 ,  3.25],\n",
              "       [25.45,  3.15],\n",
              "       [26.85,  2.95],\n",
              "       [27.15,  3.15],\n",
              "       [27.2 ,  3.  ],\n",
              "       [27.95,  3.25],\n",
              "       [27.95,  3.5 ],\n",
              "       [28.8 ,  4.05],\n",
              "       [28.8 ,  4.7 ],\n",
              "       [28.75,  5.45],\n",
              "       [28.6 ,  5.75],\n",
              "       [29.25,  6.3 ],\n",
              "       [30.  ,  6.55],\n",
              "       [30.6 ,  3.4 ],\n",
              "       [30.05,  3.45],\n",
              "       [29.75,  3.45],\n",
              "       [29.2 ,  4.  ],\n",
              "       [29.45,  4.05],\n",
              "       [29.05,  4.55],\n",
              "       [29.4 ,  4.85],\n",
              "       [29.5 ,  4.7 ],\n",
              "       [29.9 ,  4.45],\n",
              "       [30.75,  4.45],\n",
              "       [30.4 ,  4.05],\n",
              "       [30.8 ,  3.95],\n",
              "       [31.05,  3.95],\n",
              "       [30.9 ,  5.2 ],\n",
              "       [30.65,  5.85],\n",
              "       [30.7 ,  6.15],\n",
              "       [31.5 ,  6.25],\n",
              "       [31.65,  6.55],\n",
              "       [32.  ,  7.  ],\n",
              "       [32.5 ,  7.95],\n",
              "       [33.35,  7.45],\n",
              "       [32.6 ,  6.95],\n",
              "       [32.65,  6.6 ],\n",
              "       [32.55,  6.35],\n",
              "       [32.35,  6.1 ],\n",
              "       [32.55,  5.8 ],\n",
              "       [32.2 ,  5.05],\n",
              "       [32.35,  4.25],\n",
              "       [32.9 ,  4.15],\n",
              "       [32.7 ,  4.6 ],\n",
              "       [32.75,  4.85],\n",
              "       [34.1 ,  4.6 ],\n",
              "       [34.1 ,  5.  ],\n",
              "       [33.6 ,  5.25],\n",
              "       [33.35,  5.65],\n",
              "       [33.75,  5.95],\n",
              "       [33.4 ,  6.2 ],\n",
              "       [34.45,  5.8 ],\n",
              "       [34.65,  5.65],\n",
              "       [34.65,  6.25],\n",
              "       [35.25,  6.25],\n",
              "       [34.35,  6.8 ],\n",
              "       [34.1 ,  7.15],\n",
              "       [34.45,  7.3 ],\n",
              "       [34.7 ,  7.2 ],\n",
              "       [34.85,  7.  ],\n",
              "       [34.35,  7.75],\n",
              "       [34.55,  7.85],\n",
              "       [35.05,  8.  ],\n",
              "       [35.5 ,  8.05],\n",
              "       [35.8 ,  7.1 ],\n",
              "       [36.6 ,  6.7 ],\n",
              "       [36.75,  7.25],\n",
              "       [36.5 ,  7.4 ],\n",
              "       [35.95,  7.9 ],\n",
              "       [36.1 ,  8.1 ],\n",
              "       [36.15,  8.4 ],\n",
              "       [37.6 ,  7.35],\n",
              "       [37.9 ,  7.65],\n",
              "       [29.15,  4.4 ],\n",
              "       [34.9 ,  9.  ],\n",
              "       [35.3 ,  9.4 ],\n",
              "       [35.9 ,  9.35],\n",
              "       [36.  ,  9.65],\n",
              "       [35.75, 10.  ],\n",
              "       [36.7 ,  9.15],\n",
              "       [36.6 ,  9.8 ],\n",
              "       [36.9 ,  9.75],\n",
              "       [37.25, 10.15],\n",
              "       [36.4 , 10.15],\n",
              "       [36.3 , 10.7 ],\n",
              "       [36.75, 10.85],\n",
              "       [38.15,  9.7 ],\n",
              "       [38.4 ,  9.45],\n",
              "       [38.35, 10.5 ],\n",
              "       [37.7 , 10.8 ],\n",
              "       [37.45, 11.15],\n",
              "       [37.35, 11.4 ],\n",
              "       [37.  , 11.75],\n",
              "       [36.8 , 12.2 ],\n",
              "       [37.15, 12.55],\n",
              "       [37.25, 12.15],\n",
              "       [37.65, 11.95],\n",
              "       [37.95, 11.85],\n",
              "       [38.6 , 11.75],\n",
              "       [38.5 , 12.2 ],\n",
              "       [38.  , 12.95],\n",
              "       [37.3 , 13.  ],\n",
              "       [37.5 , 13.4 ],\n",
              "       [37.85, 14.5 ],\n",
              "       [38.3 , 14.6 ],\n",
              "       [38.05, 14.45],\n",
              "       [38.35, 14.35],\n",
              "       [38.5 , 14.25],\n",
              "       [39.3 , 14.2 ],\n",
              "       [39.  , 13.2 ],\n",
              "       [38.95, 12.9 ],\n",
              "       [39.2 , 12.35],\n",
              "       [39.5 , 11.8 ],\n",
              "       [39.55, 12.3 ],\n",
              "       [39.75, 12.75],\n",
              "       [40.2 , 12.8 ],\n",
              "       [40.4 , 12.05],\n",
              "       [40.45, 12.5 ],\n",
              "       [40.55, 13.15],\n",
              "       [40.45, 14.5 ],\n",
              "       [40.2 , 14.8 ],\n",
              "       [40.65, 14.9 ],\n",
              "       [40.6 , 15.25],\n",
              "       [41.3 , 15.3 ],\n",
              "       [40.95, 15.7 ],\n",
              "       [41.25, 16.8 ],\n",
              "       [40.95, 17.05],\n",
              "       [40.7 , 16.45],\n",
              "       [40.45, 16.3 ],\n",
              "       [39.9 , 16.2 ],\n",
              "       [39.65, 16.2 ],\n",
              "       [39.25, 15.5 ],\n",
              "       [38.85, 15.5 ],\n",
              "       [38.3 , 16.5 ],\n",
              "       [38.75, 16.85],\n",
              "       [39.  , 16.6 ],\n",
              "       [38.25, 17.35],\n",
              "       [39.5 , 16.95],\n",
              "       [39.9 , 17.05]])"
            ]
          },
          "execution_count": 29,
          "metadata": {},
          "output_type": "execute_result"
        }
      ],
      "source": [
        "x"
      ]
    },
    {
      "cell_type": "markdown",
      "metadata": {
        "id": "_ZKs6Cw_kwZg"
      },
      "source": [
        "Viewing the target"
      ]
    },
    {
      "cell_type": "code",
      "execution_count": 30,
      "metadata": {
        "colab": {
          "base_uri": "https://localhost:8080/"
        },
        "id": "jIyXgGc5k0Ea",
        "outputId": "f092740e-c969-41c6-8531-2ec45d7681e8"
      },
      "outputs": [
        {
          "data": {
            "text/plain": [
              "array([2, 2, 2, 2, 2, 2, 2, 2, 2, 2, 2, 2, 2, 2, 2, 2, 2, 2, 2, 2, 2, 2,\n",
              "       2, 2, 2, 2, 2, 2, 2, 2, 2, 2, 2, 2, 2, 2, 2, 2, 2, 2, 2, 2, 2, 2,\n",
              "       2, 2, 2, 2, 2, 2, 2, 2, 2, 2, 2, 2, 2, 2, 2, 2, 2, 2, 2, 2, 2, 2,\n",
              "       2, 2, 2, 2, 2, 2, 2, 2, 2, 2, 2, 2, 2, 2, 2, 2, 2, 2, 2, 2, 2, 2,\n",
              "       2, 2, 2, 2, 2, 2, 2, 2, 1, 1, 1, 1, 1, 1, 1, 1, 1, 1, 1, 1, 1, 1,\n",
              "       1, 1, 1, 1, 1, 1, 1, 1, 1, 1, 1, 1, 1, 1, 1, 1, 1, 1, 1, 1, 1, 1,\n",
              "       1, 1, 1, 1, 1, 1, 1, 1, 1, 1, 1, 1, 1, 1, 1, 1, 1, 1, 1, 1, 1, 1,\n",
              "       1, 1, 1, 1, 1, 1, 1, 1, 1, 1, 1, 1, 1, 1, 1, 1, 1, 1, 1, 1, 1, 1,\n",
              "       1, 1, 1, 1, 1, 1, 1, 1, 1, 1, 1, 1, 1, 1, 1, 1, 1, 1, 1, 1, 1, 1,\n",
              "       1, 1, 1, 1, 1, 1, 1, 1, 1, 1, 1, 1, 1, 1, 1, 1, 1, 1, 1, 1, 1, 1,\n",
              "       1, 1, 1, 1, 1, 1, 1, 1, 1, 1, 1, 1, 1, 1, 1, 1, 1, 1, 1, 1, 1, 1,\n",
              "       1, 1, 1, 1, 1, 1, 1, 1, 1, 1, 1, 1, 1, 1, 1, 1, 1, 1, 1, 1, 1, 1,\n",
              "       1, 1, 1, 1, 1, 1, 1, 1, 1, 1, 1, 1, 1, 1, 1, 1, 1, 1, 1, 1, 1, 1,\n",
              "       1, 1, 1, 1, 1, 1, 1, 1, 1, 1, 1, 1, 1, 1, 1, 1, 1, 1, 1, 1, 1, 1,\n",
              "       1, 1, 1, 1, 1, 1, 1, 1, 1, 1, 1, 1, 1, 1, 1, 1, 1, 1, 1, 1, 1, 1,\n",
              "       1, 1, 1, 1, 1, 1, 1, 1, 1, 1, 1, 1, 1, 1, 1, 1, 1, 1, 1, 1, 1, 1,\n",
              "       1, 1, 1, 1, 1, 1, 1, 1, 1, 1, 1, 1, 1, 1, 1, 1, 1, 1, 1, 1])"
            ]
          },
          "execution_count": 30,
          "metadata": {},
          "output_type": "execute_result"
        }
      ],
      "source": [
        "target"
      ]
    },
    {
      "cell_type": "markdown",
      "metadata": {
        "id": "yRhNbEaMlGF2"
      },
      "source": [
        "Ploting the data according to target "
      ]
    },
    {
      "cell_type": "code",
      "execution_count": 31,
      "metadata": {
        "colab": {
          "base_uri": "https://localhost:8080/",
          "height": 298
        },
        "id": "R78za_qPlKbM",
        "outputId": "9a189bd2-7516-4ba3-d1a2-922f99deeac3"
      },
      "outputs": [
        {
          "name": "stderr",
          "output_type": "stream",
          "text": [
            "WARNING:matplotlib.legend:No handles with labels found to put in legend.\n"
          ]
        },
        {
          "data": {
            "image/png": "[encoded data removed]",
            "text/plain": [
              "<Figure size 432x288 with 1 Axes>"
            ]
          },
          "metadata": {
            "needs_background": "light"
          },
          "output_type": "display_data"
        }
      ],
      "source": [
        "plt.scatter(x[target == 1, 0], x[target == 1, 1], s = 100, c = 'orange')\n",
        "plt.scatter(x[target == 2, 0], x[target == 2, 1], s = 100, c = 'green')\n",
        "\n",
        "plt.title('Initial data')\n",
        "#Plotting the centroids of the clusters\n",
        "\n",
        "\n",
        "plt.legend()\n",
        "plt.show()"
      ]
    },
    {
      "cell_type": "markdown",
      "metadata": {
        "id": "M4tNOb8dl0DA"
      },
      "source": [
        "finding the exact value epsilon"
      ]
    },
    {
      "cell_type": "code",
      "execution_count": 60,
      "metadata": {
        "colab": {
          "base_uri": "https://localhost:8080/",
          "height": 1000
        },
        "id": "qlLYLDLll4b-",
        "outputId": "8928b2d2-8c45-4455-c752-387e2fcdbca6"
      },
      "outputs": [
        {
          "name": "stdout",
          "output_type": "stream",
          "text": [
            "372\n",
            "1.0 0.001\n",
            "281\n",
            "0.7553763440860215 0.06220408163265306\n",
            "71\n",
            "0.19086021505376344 0.12340816326530613\n",
            "30\n",
            "0.08064516129032258 0.1846122448979592\n",
            "12\n",
            "0.03225806451612903 0.24581632653061225\n",
            "1\n",
            "0.002688172043010753 0.3070204081632653\n",
            "0\n",
            "0.0 0.3682244897959184\n",
            "0\n",
            "0.0 0.42942857142857144\n",
            "0\n",
            "0.0 0.4906326530612245\n",
            "0\n",
            "0.0 0.5518367346938776\n",
            "0\n",
            "0.0 0.6130408163265306\n",
            "0\n",
            "0.0 0.6742448979591836\n",
            "0\n",
            "0.0 0.7354489795918367\n",
            "0\n",
            "0.0 0.7966530612244899\n",
            "0\n",
            "0.0 0.8578571428571429\n",
            "0\n",
            "0.0 0.9190612244897959\n",
            "0\n",
            "0.0 0.980265306122449\n",
            "0\n",
            "0.0 1.041469387755102\n",
            "0\n",
            "0.0 1.1026734693877551\n",
            "0\n",
            "0.0 1.163877551020408\n",
            "0\n",
            "0.0 1.2250816326530611\n",
            "0\n",
            "0.0 1.2862857142857143\n",
            "0\n",
            "0.0 1.3474897959183672\n",
            "0\n",
            "0.0 1.4086938775510203\n",
            "0\n",
            "0.0 1.4698979591836734\n",
            "0\n",
            "0.0 1.5311020408163265\n",
            "0\n",
            "0.0 1.5923061224489796\n",
            "0\n",
            "0.0 1.6535102040816325\n",
            "0\n",
            "0.0 1.7147142857142856\n",
            "0\n",
            "0.0 1.7759183673469388\n",
            "0\n",
            "0.0 1.8371224489795916\n",
            "0\n",
            "0.0 1.8983265306122448\n",
            "0\n",
            "0.0 1.9595306122448979\n",
            "0\n",
            "0.0 2.020734693877551\n",
            "0\n",
            "0.0 2.081938775510204\n",
            "0\n",
            "0.0 2.1431428571428572\n",
            "0\n",
            "0.0 2.2043469387755104\n",
            "0\n",
            "0.0 2.265551020408163\n",
            "0\n",
            "0.0 2.326755102040816\n",
            "0\n",
            "0.0 2.3879591836734693\n",
            "0\n",
            "0.0 2.4491632653061224\n",
            "0\n",
            "0.0 2.5103673469387755\n",
            "0\n",
            "0.0 2.5715714285714286\n",
            "0\n",
            "0.0 2.6327755102040817\n",
            "0\n",
            "0.0 2.6939795918367344\n",
            "0\n",
            "0.0 2.7551836734693875\n",
            "0\n",
            "0.0 2.8163877551020406\n",
            "0\n",
            "0.0 2.8775918367346938\n",
            "0\n",
            "0.0 2.938795918367347\n",
            "0\n",
            "0.0 3.0\n"
          ]
        },
        {
          "data": {
            "image/png": "[encoded data removed]",
            "text/plain": [
              "<Figure size 432x288 with 1 Axes>"
            ]
          },
          "metadata": {
            "needs_background": "light"
          },
          "output_type": "display_data"
        }
      ],
      "source": [
        "outlier_percent = [] \n",
        "\n",
        "for eps in np.linspace(0.001,3,50): # check 50 values of epsilon between 0.001 and 3\n",
        "    \n",
        "    # Create Model\n",
        "    dbscan = DBSCAN(eps=eps,min_samples=4)\n",
        "    dbscan.fit(scaled_df)\n",
        "   \n",
        "    # Percentage of points that are outliers\n",
        "    print(np.sum(dbscan.labels_ == -1))\n",
        "    perc_outliers = np.sum(dbscan.labels_ == -1) / len(dbscan.labels_)\n",
        "    \n",
        "    outlier_percent.append(perc_outliers)\n",
        "    print(perc_outliers,eps)\n",
        "sns.lineplot(x=np.linspace(0.001,3,50),y=outlier_percent, color='green')\n",
        "\n",
        "plt.ylabel(\"Percentage of Points Classified as Outliers\")\n",
        "plt.xlabel(\"Epsilon Value\");\n",
        "plt.show()"
      ]
    },
    {
      "cell_type": "markdown",
      "metadata": {
        "id": "TAbup_7wllz0"
      },
      "source": [
        "\n",
        "Applying  DBSCAN"
      ]
    },
    {
      "cell_type": "code",
      "execution_count": 54,
      "metadata": {
        "id": "lPi1b6KDlqU6"
      },
      "outputs": [],
      "source": [
        "m = DBSCAN(eps=0.315, min_samples=4)\n",
        "ydbscan=m.fit_predict(scaled_df)"
      ]
    },
    {
      "cell_type": "markdown",
      "metadata": {
        "id": "QnUfw36ElwX5"
      },
      "source": [
        "Viewing the the cluster formation"
      ]
    },
    {
      "cell_type": "code",
      "execution_count": 55,
      "metadata": {
        "colab": {
          "base_uri": "https://localhost:8080/"
        },
        "id": "wr8hl1RQl0wp",
        "outputId": "1effdff3-77a3-44bb-f046-e9ed283e3dc7"
      },
      "outputs": [
        {
          "data": {
            "text/plain": [
              "array([ 0,  0,  0,  0,  0,  0,  0,  0,  0,  0,  0,  0,  0,  0,  0,  0,  0,\n",
              "        0,  0,  0,  0,  0,  0,  0,  0,  0,  0,  0,  0,  0,  0,  0,  0,  0,\n",
              "        0,  0,  0,  0,  0,  0,  0,  0,  0,  0,  0,  0,  0,  0,  0,  0,  0,\n",
              "        0,  0,  0,  0,  0,  0,  0,  0,  0,  0,  0,  0,  0,  0,  0,  0,  0,\n",
              "        0,  0,  0,  0,  0,  0,  0,  0,  0,  0,  0,  0,  0,  0,  0,  0,  0,\n",
              "        0,  0,  0,  0,  0,  0, -1,  0,  0,  0,  0,  1,  1,  1,  1,  1,  1,\n",
              "        1,  1,  1,  1,  1,  1,  1,  1,  1,  1,  1,  1,  1,  1,  1,  1,  1,\n",
              "        1,  1,  1,  1,  1,  1,  1,  1,  1,  1,  1,  1,  1,  1,  1,  1,  1,\n",
              "        1,  1,  1,  1,  1,  1,  1,  1,  1,  1,  1,  1,  1,  1,  1,  1,  1,\n",
              "        1,  1,  1,  1,  1,  1,  1,  1,  1,  1,  1,  1,  1,  1,  1,  1,  1,\n",
              "        1,  1,  1,  1,  1,  1,  1,  1,  1,  1,  1,  1,  1,  1,  1,  1,  1,\n",
              "        1,  1,  1,  1,  1,  1,  1,  1,  1,  1,  1,  1,  1,  1,  1,  1,  1,\n",
              "        1,  1,  1,  1,  1,  1,  1,  1,  1,  1,  1,  1,  1,  1,  1,  1,  1,\n",
              "        1,  1,  1,  1,  1,  1,  1,  1,  1,  1,  1,  1,  1,  1,  1,  1,  1,\n",
              "        1,  1,  1,  1,  1,  1,  1,  1,  1,  1,  1,  1,  1,  1,  1,  1,  1,\n",
              "        1,  1,  1,  1,  1,  1,  1,  1,  1,  1,  1,  1,  1,  1,  1,  1,  1,\n",
              "        1,  1,  1,  1,  1,  1,  1,  1,  1,  1,  1,  1,  1,  1,  1,  1,  1,\n",
              "        1,  1,  1,  1,  1,  1,  1,  1,  1,  1,  1,  1,  1,  1,  1,  1,  1,\n",
              "        1,  1,  1,  1,  1,  1,  1,  1,  1,  1,  1,  1,  1,  1,  1,  1,  1,\n",
              "        1,  1,  1,  1,  1,  1,  1,  1,  1,  1,  1,  1,  1,  1,  1,  1,  1,\n",
              "        1,  1,  1,  1,  1,  1,  1,  1,  1,  1,  1,  1,  1,  1,  1,  1,  1,\n",
              "        1,  1,  1,  1,  1,  1,  1,  1,  1,  1,  1,  1,  1,  1,  1])"
            ]
          },
          "execution_count": 55,
          "metadata": {},
          "output_type": "execute_result"
        }
      ],
      "source": [
        "ydbscan"
      ]
    },
    {
      "cell_type": "markdown",
      "metadata": {
        "id": "5m5M4KMNl9ec"
      },
      "source": [
        "Ploting the clusturing result"
      ]
    },
    {
      "cell_type": "code",
      "execution_count": 48,
      "metadata": {
        "colab": {
          "base_uri": "https://localhost:8080/",
          "height": 407
        },
        "id": "g1NS32KLmBda",
        "outputId": "a45a6301-de9a-46d0-ba86-ee669cc9e39c"
      },
      "outputs": [
        {
          "name": "stderr",
          "output_type": "stream",
          "text": [
            "WARNING:matplotlib.legend:No handles with labels found to put in legend.\n"
          ]
        },
        {
          "data": {
            "image/png": "[encoded data removed]",
            "text/plain": [
              "<Figure size 1008x432 with 2 Axes>"
            ]
          },
          "metadata": {
            "needs_background": "light"
          },
          "output_type": "display_data"
        }
      ],
      "source": [
        "fig, axes = plt.subplots(1, 2, figsize=(14,6))\n",
        "axes[1].scatter(x[ydbscan == 0, 0], x[ydbscan == 0, 1], s = 100, c = 'purple')\n",
        "axes[1].scatter(x[ydbscan == 1, 0], x[ydbscan == 1, 1], s = 100, c = 'red')\n",
        "axes[1].scatter(x[ydbscan == 2, 0], x[ydbscan == 2, 1], s = 100, c = 'orange')\n",
        "axes[1].scatter(x[ydbscan == 3, 0], x[ydbscan == 3, 1], s = 100, c = 'green')\n",
        "axes[1].scatter(x[ydbscan == 4, 0], x[ydbscan == 4, 1], s = 100, c = 'black')\n",
        "axes[1].scatter(x[ydbscan ==-1, 0], x[ydbscan == -1, 1], s = 100, c = 'pink')\n",
        "\n",
        "axes[1].set_title('After clusturing')\n",
        "axes[0].scatter(x[target == 1, 0], x[target == 1, 1], s = 100, c = 'orange')\n",
        "axes[0].scatter(x[target == 2, 0], x[target == 2, 1], s = 100, c = 'green')\n",
        "axes[0].scatter(x[target == 3, 0], x[target == 3, 1], s = 100, c = 'red')\n",
        "axes[0].scatter(x[target == 4, 0], x[target == 4, 1], s = 100, c = 'blue')\n",
        "axes[0].scatter(x[target == 5, 0], x[target == 5, 1], s = 100, c = 'black')\n",
        "axes[0].scatter(x[target == 6, 0], x[target == 6, 1], s = 100, c = 'purple')\n",
        "axes[0].scatter(x[target == 7, 0], x[target == 7, 1], s = 100, c = 'pink')\n",
        "axes[0].set_title('before clusturing')\n",
        "\n",
        "\n",
        "\n",
        "\n",
        "plt.legend()\n",
        "plt.show()"
      ]
    },
    {
      "cell_type": "markdown",
      "metadata": {
        "id": "4-XakZVlmJ0i"
      },
      "source": []
    },
    {
      "cell_type": "code",
      "execution_count": 49,
      "metadata": {
        "colab": {
          "base_uri": "https://localhost:8080/"
        },
        "id": "5eV_Gsw-mRPm",
        "outputId": "29717837-6362-4074-e42c-d1034d4bb0b5"
      },
      "outputs": [
        {
          "name": "stdout",
          "output_type": "stream",
          "text": [
            "col_0  -1   0    1\n",
            "row_0             \n",
            "1       0   0  276\n",
            "2       1  95    0\n"
          ]
        }
      ],
      "source": [
        "print(pd.crosstab(target,ydbscan))"
      ]
    }
  ],
  "metadata": {
    "colab": {
      "provenance": []
    },
    "kernelspec": {
      "display_name": "gdalpip",
      "language": "python",
      "name": "python3"
    },
    "language_info": {
      "codemirror_mode": {
        "name": "ipython",
        "version": 3
      },
      "file_extension": ".py",
      "mimetype": "text/x-python",
      "name": "python",
      "nbconvert_exporter": "python",
      "pygments_lexer": "ipython3",
      "version": "3.10.5"
    },
    "vscode": {
      "interpreter": {
        "hash": "17cf10c51dbaa30b7418865ccea7f7044bf7ad3d0e34897ca85d6c48629dbc7b"
      }
    }
  },
  "nbformat": 4,
  "nbformat_minor": 0
}
