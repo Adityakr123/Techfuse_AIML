{
  "cells": [
    {
      "cell_type": "markdown",
      "metadata": {
        "id": "AIbJ3bhTkAxC"
      },
      "source": []
    },
    {
      "cell_type": "markdown",
      "metadata": {
        "id": "bT9hKchnkG-7"
      },
      "source": [
        "Importing the Libraries "
      ]
    },
    {
      "cell_type": "code",
      "execution_count": 10,
      "metadata": {
        "id": "exFFaXoikLyO"
      },
      "outputs": [],
      "source": [
        "import pandas as pd\n",
        "import numpy as np\n",
        "import matplotlib.pyplot as plt \n",
        "import seaborn as sns\n",
        "from sklearn.cluster import KMeans \n",
        "from sklearn.metrics import silhouette_score\n",
        "from sklearn.preprocessing import MinMaxScaler"
      ]
    },
    {
      "cell_type": "markdown",
      "metadata": {
        "id": "V-wODM40kRDO"
      },
      "source": [
        "Importing the data"
      ]
    },
    {
      "cell_type": "code",
      "execution_count": 12,
      "metadata": {
        "id": "MpePfbX1kWSp"
      },
      "outputs": [],
      "source": [
        "iris = pd.read_excel(\"flame.xlsx\")\n",
        "x = iris.iloc[:, [0, 1]].values\n",
        "\n",
        "target = iris.iloc[:,2].values\n",
        "\n"
      ]
    },
    {
      "cell_type": "markdown",
      "metadata": {
        "id": "N-evVF9_koAy"
      },
      "source": [
        "Viewing the Data"
      ]
    },
    {
      "cell_type": "code",
      "execution_count": 13,
      "metadata": {
        "colab": {
          "base_uri": "https://localhost:8080/"
        },
        "id": "pqltewaJkq8T",
        "outputId": "9240066b-5cf3-444f-c722-bcdd4b4a1418"
      },
      "outputs": [
        {
          "data": {
            "text/plain": [
              "array([[ 1.35, 26.65],\n",
              "       [ 1.4 , 23.25],\n",
              "       [ 0.85, 23.05],\n",
              "       [ 0.5 , 22.35],\n",
              "       [ 0.65, 21.35],\n",
              "       [ 1.1 , 22.05],\n",
              "       [ 1.35, 22.65],\n",
              "       [ 1.95, 22.8 ],\n",
              "       [ 2.4 , 22.45],\n",
              "       [ 1.8 , 22.  ],\n",
              "       [ 2.5 , 21.85],\n",
              "       [ 2.95, 21.4 ],\n",
              "       [ 1.9 , 21.25],\n",
              "       [ 1.35, 21.45],\n",
              "       [ 1.35, 20.9 ],\n",
              "       [ 1.25, 20.35],\n",
              "       [ 1.75, 20.05],\n",
              "       [ 2.  , 20.6 ],\n",
              "       [ 2.5 , 21.  ],\n",
              "       [ 1.7 , 19.05],\n",
              "       [ 2.4 , 20.05],\n",
              "       [ 3.05, 20.45],\n",
              "       [ 3.7 , 20.45],\n",
              "       [ 3.45, 19.9 ],\n",
              "       [ 2.95, 19.5 ],\n",
              "       [ 2.4 , 19.4 ],\n",
              "       [ 2.4 , 18.25],\n",
              "       [ 2.85, 18.75],\n",
              "       [ 3.25, 19.05],\n",
              "       [ 3.95, 19.6 ],\n",
              "       [ 2.7 , 17.8 ],\n",
              "       [ 3.45, 18.05],\n",
              "       [ 3.8 , 18.55],\n",
              "       [ 4.  , 19.1 ],\n",
              "       [ 4.45, 19.9 ],\n",
              "       [ 4.65, 19.15],\n",
              "       [ 4.85, 18.45],\n",
              "       [ 4.3 , 18.05],\n",
              "       [ 3.35, 17.3 ],\n",
              "       [ 3.7 , 16.3 ],\n",
              "       [ 4.4 , 16.95],\n",
              "       [ 4.25, 17.4 ],\n",
              "       [ 4.8 , 17.65],\n",
              "       [ 5.25, 18.25],\n",
              "       [ 5.75, 18.55],\n",
              "       [ 5.3 , 19.25],\n",
              "       [ 6.05, 19.55],\n",
              "       [ 6.5 , 18.9 ],\n",
              "       [ 6.05, 18.2 ],\n",
              "       [ 5.6 , 17.8 ],\n",
              "       [ 5.45, 17.15],\n",
              "       [ 5.05, 16.55],\n",
              "       [ 4.55, 16.05],\n",
              "       [ 4.95, 15.45],\n",
              "       [ 5.85, 14.8 ],\n",
              "       [ 5.6 , 15.3 ],\n",
              "       [ 5.65, 16.  ],\n",
              "       [ 5.95, 16.8 ],\n",
              "       [ 6.25, 16.4 ],\n",
              "       [ 6.1 , 17.45],\n",
              "       [ 6.6 , 17.65],\n",
              "       [ 6.65, 18.3 ],\n",
              "       [ 7.3 , 18.35],\n",
              "       [ 7.85, 18.3 ],\n",
              "       [ 7.15, 17.8 ],\n",
              "       [ 7.6 , 17.7 ],\n",
              "       [ 6.7 , 17.25],\n",
              "       [ 7.3 , 17.25],\n",
              "       [ 6.7 , 16.8 ],\n",
              "       [ 7.3 , 16.65],\n",
              "       [ 6.75, 16.3 ],\n",
              "       [ 7.4 , 16.2 ],\n",
              "       [ 6.55, 15.75],\n",
              "       [ 7.35, 15.8 ],\n",
              "       [ 6.8 , 14.95],\n",
              "       [ 7.45, 15.1 ],\n",
              "       [ 6.85, 14.45],\n",
              "       [ 7.6 , 14.6 ],\n",
              "       [ 8.55, 14.65],\n",
              "       [ 8.2 , 15.5 ],\n",
              "       [ 7.9 , 16.1 ],\n",
              "       [ 8.05, 16.5 ],\n",
              "       [ 7.8 , 17.  ],\n",
              "       [ 8.  , 17.45],\n",
              "       [ 8.4 , 18.1 ],\n",
              "       [ 8.65, 17.75],\n",
              "       [ 8.9 , 17.1 ],\n",
              "       [ 8.4 , 17.1 ],\n",
              "       [ 8.65, 16.65],\n",
              "       [ 8.45, 16.05],\n",
              "       [ 8.85, 15.35],\n",
              "       [ 9.6 , 15.3 ],\n",
              "       [ 9.15, 16.  ],\n",
              "       [10.2 , 16.  ],\n",
              "       [ 9.5 , 16.65],\n",
              "       [10.75, 16.6 ],\n",
              "       [10.45, 17.2 ],\n",
              "       [ 9.85, 17.1 ],\n",
              "       [ 9.4 , 17.6 ],\n",
              "       [10.15, 17.7 ],\n",
              "       [ 9.85, 18.15],\n",
              "       [ 9.05, 18.25],\n",
              "       [ 9.3 , 18.7 ],\n",
              "       [ 9.15, 19.15],\n",
              "       [ 8.5 , 18.8 ],\n",
              "       [11.65, 17.45],\n",
              "       [11.1 , 17.65],\n",
              "       [10.4 , 18.25],\n",
              "       [10.  , 18.95],\n",
              "       [11.95, 18.25],\n",
              "       [11.25, 18.4 ],\n",
              "       [10.6 , 18.9 ],\n",
              "       [11.15, 19.  ],\n",
              "       [11.9 , 18.85],\n",
              "       [12.6 , 18.9 ],\n",
              "       [11.8 , 19.45],\n",
              "       [11.05, 19.45],\n",
              "       [10.3 , 19.4 ],\n",
              "       [ 9.9 , 19.75],\n",
              "       [10.45, 20.  ],\n",
              "       [13.05, 19.9 ],\n",
              "       [12.5 , 19.75],\n",
              "       [11.9 , 20.05],\n",
              "       [11.2 , 20.25],\n",
              "       [10.85, 20.85],\n",
              "       [11.4 , 21.25],\n",
              "       [11.7 , 20.6 ],\n",
              "       [12.3 , 20.45],\n",
              "       [12.95, 20.55],\n",
              "       [12.55, 20.95],\n",
              "       [12.05, 21.25],\n",
              "       [11.75, 22.1 ],\n",
              "       [12.25, 21.85],\n",
              "       [12.8 , 21.5 ],\n",
              "       [13.55, 21.  ],\n",
              "       [13.6 , 21.6 ],\n",
              "       [12.95, 22.  ],\n",
              "       [12.5 , 22.25],\n",
              "       [12.2 , 22.85],\n",
              "       [12.7 , 23.35],\n",
              "       [13.  , 22.7 ],\n",
              "       [13.55, 22.2 ],\n",
              "       [14.05, 22.25],\n",
              "       [14.2 , 23.05],\n",
              "       [14.1 , 23.6 ],\n",
              "       [13.5 , 22.8 ],\n",
              "       [13.35, 23.5 ],\n",
              "       [13.3 , 24.  ],\n",
              "       [ 7.3 , 19.15],\n",
              "       [ 7.95, 19.35],\n",
              "       [ 7.7 , 20.05],\n",
              "       [ 6.75, 19.9 ],\n",
              "       [ 5.25, 20.35],\n",
              "       [ 6.15, 20.7 ],\n",
              "       [ 7.  , 20.7 ],\n",
              "       [ 7.6 , 21.2 ],\n",
              "       [ 8.55, 20.6 ],\n",
              "       [ 9.35, 20.5 ],\n",
              "       [ 8.3 , 21.45],\n",
              "       [ 7.9 , 21.6 ],\n",
              "       [ 7.15, 21.75],\n",
              "       [ 6.7 , 21.3 ],\n",
              "       [ 5.2 , 21.1 ],\n",
              "       [ 6.2 , 21.95],\n",
              "       [ 6.75, 22.4 ],\n",
              "       [ 6.15, 22.5 ],\n",
              "       [ 5.65, 22.2 ],\n",
              "       [ 4.65, 22.55],\n",
              "       [ 4.1 , 23.45],\n",
              "       [ 5.35, 22.8 ],\n",
              "       [ 7.4 , 22.6 ],\n",
              "       [ 7.75, 22.1 ],\n",
              "       [ 8.5 , 22.3 ],\n",
              "       [ 9.3 , 22.  ],\n",
              "       [ 9.7 , 22.95],\n",
              "       [ 8.8 , 22.95],\n",
              "       [ 8.05, 22.9 ],\n",
              "       [ 7.6 , 23.15],\n",
              "       [ 6.85, 23.  ],\n",
              "       [ 6.2 , 23.25],\n",
              "       [ 5.7 , 23.4 ],\n",
              "       [ 5.1 , 23.55],\n",
              "       [ 4.55, 24.15],\n",
              "       [ 5.5 , 24.  ],\n",
              "       [ 6.1 , 24.05],\n",
              "       [ 6.5 , 23.6 ],\n",
              "       [ 6.75, 23.95],\n",
              "       [ 7.3 , 23.75],\n",
              "       [ 8.3 , 23.4 ],\n",
              "       [ 8.9 , 23.7 ],\n",
              "       [ 9.55, 23.65],\n",
              "       [10.35, 24.1 ],\n",
              "       [ 7.95, 24.05],\n",
              "       [ 3.95, 24.4 ],\n",
              "       [ 3.75, 25.25],\n",
              "       [ 3.9 , 25.95],\n",
              "       [ 4.55, 26.65],\n",
              "       [ 5.25, 26.75],\n",
              "       [ 6.5 , 27.6 ],\n",
              "       [ 7.45, 27.6 ],\n",
              "       [ 8.35, 27.35],\n",
              "       [ 9.25, 27.2 ],\n",
              "       [ 9.95, 26.5 ],\n",
              "       [10.55, 25.6 ],\n",
              "       [ 9.9 , 24.95],\n",
              "       [ 9.2 , 24.5 ],\n",
              "       [ 8.55, 24.2 ],\n",
              "       [ 8.8 , 24.8 ],\n",
              "       [ 9.2 , 25.35],\n",
              "       [ 9.55, 26.05],\n",
              "       [ 9.05, 26.6 ],\n",
              "       [ 8.8 , 25.8 ],\n",
              "       [ 8.15, 26.35],\n",
              "       [ 8.05, 25.8 ],\n",
              "       [ 8.35, 25.2 ],\n",
              "       [ 7.9 , 25.3 ],\n",
              "       [ 8.05, 24.7 ],\n",
              "       [ 7.3 , 24.4 ],\n",
              "       [ 7.55, 24.85],\n",
              "       [ 6.85, 24.45],\n",
              "       [ 6.25, 24.65],\n",
              "       [ 5.55, 24.5 ],\n",
              "       [ 4.65, 25.1 ],\n",
              "       [ 5.  , 25.55],\n",
              "       [ 5.55, 26.1 ],\n",
              "       [ 5.55, 25.25],\n",
              "       [ 6.2 , 25.2 ],\n",
              "       [ 6.8 , 25.05],\n",
              "       [ 7.4 , 25.25],\n",
              "       [ 6.65, 25.45],\n",
              "       [ 6.15, 25.8 ],\n",
              "       [ 6.5 , 26.1 ],\n",
              "       [ 6.6 , 26.6 ],\n",
              "       [ 7.7 , 26.65],\n",
              "       [ 7.5 , 26.2 ],\n",
              "       [ 7.5 , 25.65],\n",
              "       [ 7.05, 25.85],\n",
              "       [ 6.9 , 27.15],\n",
              "       [ 6.15, 26.9 ]])"
            ]
          },
          "execution_count": 13,
          "metadata": {},
          "output_type": "execute_result"
        }
      ],
      "source": [
        "x"
      ]
    },
    {
      "cell_type": "markdown",
      "metadata": {
        "id": "_ZKs6Cw_kwZg"
      },
      "source": [
        "Viewing the target"
      ]
    },
    {
      "cell_type": "code",
      "execution_count": 14,
      "metadata": {
        "colab": {
          "base_uri": "https://localhost:8080/"
        },
        "id": "jIyXgGc5k0Ea",
        "outputId": "b93151a7-6c0d-4ce5-9298-cb4160178c58"
      },
      "outputs": [
        {
          "data": {
            "text/plain": [
              "array([1, 2, 2, 2, 2, 2, 2, 2, 2, 2, 2, 2, 2, 2, 2, 2, 2, 2, 2, 2, 2, 2,\n",
              "       2, 2, 2, 2, 2, 2, 2, 2, 2, 2, 2, 2, 2, 2, 2, 2, 2, 2, 2, 2, 2, 2,\n",
              "       2, 2, 2, 2, 2, 2, 2, 2, 2, 2, 2, 2, 2, 2, 2, 2, 2, 2, 2, 2, 2, 2,\n",
              "       2, 2, 2, 2, 2, 2, 2, 2, 2, 2, 2, 2, 2, 2, 2, 2, 2, 2, 2, 2, 2, 2,\n",
              "       2, 2, 2, 2, 2, 2, 2, 2, 2, 2, 2, 2, 2, 2, 2, 2, 2, 2, 2, 2, 2, 2,\n",
              "       2, 2, 2, 2, 2, 2, 2, 2, 2, 2, 2, 2, 2, 2, 2, 2, 2, 2, 2, 2, 2, 2,\n",
              "       2, 2, 2, 2, 2, 2, 2, 2, 2, 2, 2, 2, 2, 2, 2, 2, 2, 2, 2, 2, 2, 1,\n",
              "       1, 1, 1, 1, 1, 1, 1, 1, 2, 1, 1, 1, 1, 1, 1, 1, 1, 1, 1, 1, 1, 1,\n",
              "       1, 1, 1, 1, 1, 1, 1, 1, 1, 1, 1, 1, 1, 1, 1, 1, 1, 1, 1, 1, 1, 1,\n",
              "       1, 1, 1, 1, 1, 1, 1, 1, 1, 1, 1, 1, 1, 1, 1, 1, 1, 1, 1, 1, 1, 1,\n",
              "       1, 1, 1, 1, 1, 1, 1, 1, 1, 1, 1, 1, 1, 1, 1, 1, 1, 1, 1])"
            ]
          },
          "execution_count": 14,
          "metadata": {},
          "output_type": "execute_result"
        }
      ],
      "source": [
        "target"
      ]
    },
    {
      "cell_type": "markdown",
      "metadata": {
        "id": "yRhNbEaMlGF2"
      },
      "source": [
        "Ploting the data according to target "
      ]
    },
    {
      "cell_type": "code",
      "execution_count": 16,
      "metadata": {
        "colab": {
          "base_uri": "https://localhost:8080/",
          "height": 298
        },
        "id": "R78za_qPlKbM",
        "outputId": "2fe87eb1-ff96-4341-83b0-1d998c8e1631"
      },
      "outputs": [
        {
          "name": "stderr",
          "output_type": "stream",
          "text": [
            "WARNING:matplotlib.legend:No handles with labels found to put in legend.\n"
          ]
        },
        {
          "data": {
            "image/png": "[encoded data removed]",
            "text/plain": [
              "<Figure size 432x288 with 1 Axes>"
            ]
          },
          "metadata": {
            "needs_background": "light"
          },
          "output_type": "display_data"
        }
      ],
      "source": [
        "# plt.scatter(x[target == 0, 0], x[target == 0, 1], s = 100, c = 'purple')\n",
        "plt.scatter(x[target == 1, 0], x[target == 1, 1], s = 100, c = 'orange')\n",
        "plt.scatter(x[target == 2, 0], x[target == 2, 1], s = 100, c = 'green')\n",
        "plt.title('Initial data')\n",
        "#Plotting the centroids of the clusters\n",
        "\n",
        "\n",
        "plt.legend()\n",
        "plt.show()"
      ]
    },
    {
      "cell_type": "markdown",
      "metadata": {
        "id": "WhNYI-qMhEQM"
      },
      "source": [
        "FINDING THE BEST K BY ELBOW METHOD"
      ]
    },
    {
      "cell_type": "code",
      "execution_count": 24,
      "metadata": {
        "colab": {
          "base_uri": "https://localhost:8080/",
          "height": 382
        },
        "id": "2SxdWhyfhI_0",
        "outputId": "75da88da-43e3-428c-bae9-4e5eb2746e40"
      },
      "outputs": [
        {
          "data": {
            "image/png": "[encoded data removed]",
            "text/plain": [
              "<Figure size 800x400 with 1 Axes>"
            ]
          },
          "metadata": {
            "needs_background": "light"
          },
          "output_type": "display_data"
        }
      ],
      "source": [
        "from sklearn.cluster import KMeans\n",
        "ssd = [] # An empty list for sum of squared distances to be appended for k values 2 to 30\n",
        "clusters = []\n",
        "for k in range(1,11):\n",
        "    model = KMeans(n_clusters=k)\n",
        "    model.fit(x)\n",
        "    ssd.append(model.inertia_)\n",
        "    clusters.append(model)\n",
        "plt.figure(figsize=(8,4),dpi=100)\n",
        "plt.plot(range(1,11), ssd, marker='o', color='green', markerfacecolor='blue', markersize=5)\n",
        "plt.xlabel(\"K Value\")\n",
        "plt.ylabel(\"Sum of Squared Distances\")\n",
        "  "
      ]
    },
    {
      "cell_type": "markdown",
      "metadata": {
        "id": "05XA24v-hlQ8"
      },
      "source": [
        "WE CAN CLEARLY SEE THAT ELBOW IS AT 4 BUT STILL LETS CHECK THE SILHOUTTE SCORE"
      ]
    },
    {
      "cell_type": "code",
      "execution_count": 25,
      "metadata": {
        "colab": {
          "base_uri": "https://localhost:8080/"
        },
        "id": "Hf3od4c8hutG",
        "outputId": "2e5a1179-fc51-4848-d5d5-e685d94929f4"
      },
      "outputs": [
        {
          "name": "stdout",
          "output_type": "stream",
          "text": [
            "---------------------------------------\n",
            "KMeans(n_clusters=2)\n",
            "Silhouette score: 0.3781633598674282\n",
            "---------------------------------------\n",
            "KMeans(n_clusters=3)\n",
            "Silhouette score: 0.41252990380104315\n",
            "---------------------------------------\n",
            "KMeans(n_clusters=4)\n",
            "Silhouette score: 0.4469910179114716\n",
            "---------------------------------------\n",
            "KMeans(n_clusters=5)\n",
            "Silhouette score: 0.40403303676970215\n",
            "---------------------------------------\n",
            "KMeans(n_clusters=6)\n",
            "Silhouette score: 0.3764088964528707\n",
            "---------------------------------------\n",
            "KMeans(n_clusters=7)\n",
            "Silhouette score: 0.37513613908315374\n",
            "---------------------------------------\n",
            "KMeans()\n",
            "Silhouette score: 0.38076104175046904\n",
            "---------------------------------------\n",
            "KMeans(n_clusters=9)\n",
            "Silhouette score: 0.35801285329164384\n"
          ]
        }
      ],
      "source": [
        "from sklearn.metrics import silhouette_score\n",
        "for i in range(1,9,1):\n",
        "    \n",
        "    print(\"---------------------------------------\")\n",
        "    print(clusters[i])\n",
        "    print(\"Silhouette score:\",silhouette_score(x, clusters[i].predict(x)))"
      ]
    },
    {
      "cell_type": "markdown",
      "metadata": {
        "id": "TAbup_7wllz0"
      },
      "source": [
        "Applying  Kmeans "
      ]
    },
    {
      "cell_type": "code",
      "execution_count": 26,
      "metadata": {
        "id": "lPi1b6KDlqU6"
      },
      "outputs": [],
      "source": [
        "kmeans = KMeans(n_clusters = 4, max_iter = 300, random_state = 0)\n",
        "y_kmeans = kmeans.fit_predict(x)"
      ]
    },
    {
      "cell_type": "markdown",
      "metadata": {
        "id": "QnUfw36ElwX5"
      },
      "source": [
        "Viewing the the cluster formation"
      ]
    },
    {
      "cell_type": "code",
      "execution_count": 27,
      "metadata": {
        "colab": {
          "base_uri": "https://localhost:8080/"
        },
        "id": "wr8hl1RQl0wp",
        "outputId": "39f47fbf-a143-4bf7-fba1-13899390fe19"
      },
      "outputs": [
        {
          "data": {
            "text/plain": [
              "array([0, 2, 2, 2, 2, 2, 2, 2, 2, 2, 2, 2, 2, 2, 2, 2, 2, 2, 2, 2, 2, 2,\n",
              "       2, 2, 2, 2, 2, 2, 2, 2, 2, 2, 2, 2, 2, 2, 2, 2, 2, 1, 1, 1, 1, 1,\n",
              "       1, 2, 1, 1, 1, 1, 1, 1, 1, 1, 1, 1, 1, 1, 1, 1, 1, 1, 1, 1, 1, 1,\n",
              "       1, 1, 1, 1, 1, 1, 1, 1, 1, 1, 1, 1, 1, 1, 1, 1, 1, 1, 1, 1, 1, 1,\n",
              "       1, 1, 1, 1, 1, 1, 1, 1, 1, 1, 1, 1, 1, 1, 1, 1, 1, 3, 3, 3, 3, 3,\n",
              "       3, 3, 3, 3, 3, 3, 3, 3, 3, 3, 3, 3, 3, 3, 3, 3, 3, 3, 3, 3, 3, 3,\n",
              "       3, 3, 3, 3, 3, 3, 3, 3, 3, 3, 3, 3, 3, 3, 3, 3, 1, 1, 1, 1, 2, 2,\n",
              "       1, 0, 3, 3, 0, 0, 0, 0, 2, 0, 0, 0, 0, 2, 0, 0, 0, 0, 0, 3, 0, 0,\n",
              "       0, 0, 0, 0, 0, 0, 0, 0, 0, 0, 0, 0, 0, 0, 0, 0, 0, 0, 0, 0, 0, 0,\n",
              "       0, 0, 0, 0, 0, 0, 0, 0, 0, 0, 0, 0, 0, 0, 0, 0, 0, 0, 0, 0, 0, 0,\n",
              "       0, 0, 0, 0, 0, 0, 0, 0, 0, 0, 0, 0, 0, 0, 0, 0, 0, 0, 0],\n",
              "      dtype=int32)"
            ]
          },
          "execution_count": 27,
          "metadata": {},
          "output_type": "execute_result"
        }
      ],
      "source": [
        "y_kmeans"
      ]
    },
    {
      "cell_type": "markdown",
      "metadata": {
        "id": "5m5M4KMNl9ec"
      },
      "source": [
        "Ploting the clusturing result"
      ]
    },
    {
      "cell_type": "code",
      "execution_count": 28,
      "metadata": {
        "colab": {
          "base_uri": "https://localhost:8080/",
          "height": 407
        },
        "id": "g1NS32KLmBda",
        "outputId": "679cb9fb-e99c-4f7b-b04e-bd5231c1b7e0"
      },
      "outputs": [
        {
          "name": "stderr",
          "output_type": "stream",
          "text": [
            "WARNING:matplotlib.legend:No handles with labels found to put in legend.\n"
          ]
        },
        {
          "data": {
            "image/png": "[encoded data removed]",
            "text/plain": [
              "<Figure size 1008x432 with 2 Axes>"
            ]
          },
          "metadata": {
            "needs_background": "light"
          },
          "output_type": "display_data"
        }
      ],
      "source": [
        "fig, axes = plt.subplots(1, 2, figsize=(14,6))\n",
        "axes[1].scatter(x[y_kmeans == 0, 0], x[y_kmeans == 0, 1], s = 100, c = 'purple')\n",
        "axes[1].scatter(x[y_kmeans == 1, 0], x[y_kmeans == 1, 1], s = 100, c = 'orange')\n",
        "axes[1].scatter(x[y_kmeans == 2, 0], x[y_kmeans == 2, 1], s = 100, c = 'green')\n",
        "axes[1].scatter(x[y_kmeans == 3, 0], x[y_kmeans == 3, 1], s = 100, c = 'pink')\n",
        "axes[1].set_title('After clusturing')\n",
        "#Plotting the centroids of the clusters\n",
        "axes[1].scatter(kmeans.cluster_centers_[:, 0], kmeans.cluster_centers_[:,1], s = 100, c = 'red' )\n",
        "# axes[0].scatter(x[target == 0, 0], x[target == 0, 1], s = 100, c = 'purple')\n",
        "axes[0].scatter(x[target == 1, 0], x[target == 1, 1], s = 100, c = 'orange')\n",
        "axes[0].scatter(x[target == 2, 0], x[target == 2, 1], s = 100, c = 'green')\n",
        "axes[0].set_title('before clusturing')\n",
        "#Plotting the centroids of the clusters\n",
        "\n",
        "\n",
        "plt.legend()\n",
        "plt.show()"
      ]
    },
    {
      "cell_type": "markdown",
      "metadata": {
        "id": "4-XakZVlmJ0i"
      },
      "source": []
    },
    {
      "cell_type": "code",
      "execution_count": 29,
      "metadata": {
        "colab": {
          "base_uri": "https://localhost:8080/"
        },
        "id": "5eV_Gsw-mRPm",
        "outputId": "8a1b804d-84fe-4efe-8052-a34b858ac259"
      },
      "outputs": [
        {
          "name": "stdout",
          "output_type": "stream",
          "text": [
            "col_0   0   1   2   3\n",
            "row_0                \n",
            "1      80   1   2   3\n",
            "2       0  69  41  43\n"
          ]
        }
      ],
      "source": [
        "print(pd.crosstab(target,y_kmeans))"
      ]
    }
  ],
  "metadata": {
    "colab": {
      "provenance": []
    },
    "kernelspec": {
      "display_name": "gdalpip",
      "language": "python",
      "name": "python3"
    },
    "language_info": {
      "codemirror_mode": {
        "name": "ipython",
        "version": 3
      },
      "file_extension": ".py",
      "mimetype": "text/x-python",
      "name": "python",
      "nbconvert_exporter": "python",
      "pygments_lexer": "ipython3",
      "version": "3.9.12"
    },
    "vscode": {
      "interpreter": {
        "hash": "17cf10c51dbaa30b7418865ccea7f7044bf7ad3d0e34897ca85d6c48629dbc7b"
      }
    }
  },
  "nbformat": 4,
  "nbformat_minor": 0
}
